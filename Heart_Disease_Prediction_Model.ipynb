{
  "nbformat": 4,
  "nbformat_minor": 0,
  "metadata": {
    "colab": {
      "provenance": []
    },
    "kernelspec": {
      "name": "python3",
      "display_name": "Python 3"
    },
    "language_info": {
      "name": "python"
    }
  },
  "cells": [
    {
      "cell_type": "markdown",
      "source": [
        "# Heart Disease Prediction"
      ],
      "metadata": {
        "id": "dUAUha8VBj1Q"
      }
    },
    {
      "cell_type": "code",
      "execution_count": 1,
      "metadata": {
        "id": "iIPchCUIcTkP"
      },
      "outputs": [],
      "source": [
        "import pandas as pd\n",
        "import tensorflow as tf\n",
        "from sklearn.model_selection import train_test_split\n",
        "from sklearn.preprocessing import StandardScaler, OneHotEncoder\n",
        "from sklearn.compose import ColumnTransformer"
      ]
    },
    {
      "cell_type": "code",
      "source": [
        "# Load the dataset\n",
        "data = pd.read_csv('/data/cleaned_dataset.csv')\n",
        "\n",
        "# Drop irrelevant columns\n",
        "X = data.drop(['num', 'id', 'dataset'], axis=1)\n",
        "y = (data['num'] > 0).astype(int)\n",
        "\n",
        "# Encode binary columns\n",
        "X['sex'] = X['sex'].map({'Male': 0, 'Female': 1})\n",
        "X['fbs'] = X['fbs'].map({False: 0, True: 1})\n",
        "X['exang'] = X['exang'].map({False: 0, True: 1})\n",
        "\n",
        "# One-hot encode categorical columns\n",
        "X = pd.get_dummies(X, columns=['cp', 'restecg', 'slope', 'thal'])\n",
        "\n",
        "# Scale numerical columns\n",
        "numerical_cols = ['age', 'trestbps', 'chol', 'thalch', 'oldpeak', 'ca']\n",
        "scaler = StandardScaler()\n",
        "X[numerical_cols] = scaler.fit_transform(X[numerical_cols])\n"
      ],
      "metadata": {
        "id": "IPUZ-Qsz_PBb"
      },
      "execution_count": 2,
      "outputs": []
    },
    {
      "cell_type": "code",
      "source": [
        "# Split the dataset into training and testing sets\n",
        "X_train, X_test, y_train, y_test = train_test_split(X, y, test_size=0.2, random_state=42)\n"
      ],
      "metadata": {
        "id": "NRkIp3GJ_XBK"
      },
      "execution_count": 3,
      "outputs": []
    },
    {
      "cell_type": "code",
      "source": [
        "# Build the model\n",
        "model = tf.keras.Sequential([\n",
        "    tf.keras.layers.Dense(64, activation='relu', input_shape=(X_train.shape[1],)),\n",
        "    tf.keras.layers.Dense(32, activation='relu'),\n",
        "    tf.keras.layers.Dropout(0.2),\n",
        "    tf.keras.layers.Dense(1, activation='sigmoid')\n",
        "])\n"
      ],
      "metadata": {
        "colab": {
          "base_uri": "https://localhost:8080/"
        },
        "id": "KdNDkYgR_ygE",
        "outputId": "eb1b7458-e29f-47f1-9e65-d534063c833b"
      },
      "execution_count": 4,
      "outputs": [
        {
          "output_type": "stream",
          "name": "stderr",
          "text": [
            "/usr/local/lib/python3.10/dist-packages/keras/src/layers/core/dense.py:87: UserWarning: Do not pass an `input_shape`/`input_dim` argument to a layer. When using Sequential models, prefer using an `Input(shape)` object as the first layer in the model instead.\n",
            "  super().__init__(activity_regularizer=activity_regularizer, **kwargs)\n"
          ]
        }
      ]
    },
    {
      "cell_type": "code",
      "source": [
        "# Compile the model\n",
        "model.compile(optimizer='adam',\n",
        "              loss='binary_crossentropy',\n",
        "              metrics=['accuracy', tf.keras.metrics.AUC()])\n"
      ],
      "metadata": {
        "id": "7Wz9XgN__zSP"
      },
      "execution_count": 5,
      "outputs": []
    },
    {
      "cell_type": "code",
      "source": [
        "# Define a custom callback to stop training when accuracy reaches 95%\n",
        "class StopTrainingAtAccuracy(tf.keras.callbacks.Callback):\n",
        "    def __init__(self, target_accuracy=0.95):\n",
        "        super(StopTrainingAtAccuracy, self).__init__()\n",
        "        self.target_accuracy = target_accuracy\n",
        "\n",
        "    def on_epoch_end(self, epoch, logs=None):\n",
        "        if logs.get('accuracy') >= self.target_accuracy:\n",
        "            print(f\"\\nReached {self.target_accuracy * 100:.2f}% accuracy. Stopping training!\")\n",
        "            self.model.stop_training = True\n"
      ],
      "metadata": {
        "id": "OvGErcSB_01e"
      },
      "execution_count": 6,
      "outputs": []
    },
    {
      "cell_type": "code",
      "source": [
        "# Train the model\n",
        "accuracy_callback = StopTrainingAtAccuracy(target_accuracy=0.95)\n",
        "history = model.fit(X_train, y_train,\n",
        "                    epochs=50,\n",
        "                    batch_size=32,\n",
        "                    validation_split=0.2,\n",
        "                    callbacks=[accuracy_callback])\n"
      ],
      "metadata": {
        "colab": {
          "base_uri": "https://localhost:8080/"
        },
        "id": "speEY1Zd_2CT",
        "outputId": "04fb736a-c25f-410b-e017-10b118f48d7f"
      },
      "execution_count": 7,
      "outputs": [
        {
          "output_type": "stream",
          "name": "stdout",
          "text": [
            "Epoch 1/50\n",
            "\u001b[1m19/19\u001b[0m \u001b[32m━━━━━━━━━━━━━━━━━━━━\u001b[0m\u001b[37m\u001b[0m \u001b[1m2s\u001b[0m 20ms/step - accuracy: 0.6877 - auc: 0.7957 - loss: 0.6226 - val_accuracy: 0.7959 - val_auc: 0.9111 - val_loss: 0.5223\n",
            "Epoch 2/50\n",
            "\u001b[1m19/19\u001b[0m \u001b[32m━━━━━━━━━━━━━━━━━━━━\u001b[0m\u001b[37m\u001b[0m \u001b[1m0s\u001b[0m 4ms/step - accuracy: 0.7974 - auc: 0.8900 - loss: 0.5220 - val_accuracy: 0.8027 - val_auc: 0.9221 - val_loss: 0.4359\n",
            "Epoch 3/50\n",
            "\u001b[1m19/19\u001b[0m \u001b[32m━━━━━━━━━━━━━━━━━━━━\u001b[0m\u001b[37m\u001b[0m \u001b[1m0s\u001b[0m 6ms/step - accuracy: 0.8411 - auc: 0.9087 - loss: 0.4245 - val_accuracy: 0.8231 - val_auc: 0.9275 - val_loss: 0.3865\n",
            "Epoch 4/50\n",
            "\u001b[1m19/19\u001b[0m \u001b[32m━━━━━━━━━━━━━━━━━━━━\u001b[0m\u001b[37m\u001b[0m \u001b[1m0s\u001b[0m 4ms/step - accuracy: 0.8254 - auc: 0.9036 - loss: 0.3870 - val_accuracy: 0.8435 - val_auc: 0.9356 - val_loss: 0.3595\n",
            "Epoch 5/50\n",
            "\u001b[1m19/19\u001b[0m \u001b[32m━━━━━━━━━━━━━━━━━━━━\u001b[0m\u001b[37m\u001b[0m \u001b[1m0s\u001b[0m 5ms/step - accuracy: 0.8689 - auc: 0.9281 - loss: 0.3452 - val_accuracy: 0.8435 - val_auc: 0.9408 - val_loss: 0.3500\n",
            "Epoch 6/50\n",
            "\u001b[1m19/19\u001b[0m \u001b[32m━━━━━━━━━━━━━━━━━━━━\u001b[0m\u001b[37m\u001b[0m \u001b[1m0s\u001b[0m 4ms/step - accuracy: 0.8639 - auc: 0.9093 - loss: 0.3740 - val_accuracy: 0.8503 - val_auc: 0.9423 - val_loss: 0.3369\n",
            "Epoch 7/50\n",
            "\u001b[1m19/19\u001b[0m \u001b[32m━━━━━━━━━━━━━━━━━━━━\u001b[0m\u001b[37m\u001b[0m \u001b[1m0s\u001b[0m 5ms/step - accuracy: 0.8547 - auc: 0.9324 - loss: 0.3321 - val_accuracy: 0.8435 - val_auc: 0.9428 - val_loss: 0.3384\n",
            "Epoch 8/50\n",
            "\u001b[1m19/19\u001b[0m \u001b[32m━━━━━━━━━━━━━━━━━━━━\u001b[0m\u001b[37m\u001b[0m \u001b[1m0s\u001b[0m 6ms/step - accuracy: 0.8587 - auc: 0.9368 - loss: 0.3170 - val_accuracy: 0.8503 - val_auc: 0.9439 - val_loss: 0.3313\n",
            "Epoch 9/50\n",
            "\u001b[1m19/19\u001b[0m \u001b[32m━━━━━━━━━━━━━━━━━━━━\u001b[0m\u001b[37m\u001b[0m \u001b[1m0s\u001b[0m 5ms/step - accuracy: 0.8904 - auc: 0.9467 - loss: 0.2969 - val_accuracy: 0.8503 - val_auc: 0.9456 - val_loss: 0.3294\n",
            "Epoch 10/50\n",
            "\u001b[1m19/19\u001b[0m \u001b[32m━━━━━━━━━━━━━━━━━━━━\u001b[0m\u001b[37m\u001b[0m \u001b[1m0s\u001b[0m 5ms/step - accuracy: 0.8827 - auc: 0.9422 - loss: 0.3037 - val_accuracy: 0.8571 - val_auc: 0.9463 - val_loss: 0.3224\n",
            "Epoch 11/50\n",
            "\u001b[1m19/19\u001b[0m \u001b[32m━━━━━━━━━━━━━━━━━━━━\u001b[0m\u001b[37m\u001b[0m \u001b[1m0s\u001b[0m 4ms/step - accuracy: 0.8629 - auc: 0.9350 - loss: 0.3175 - val_accuracy: 0.8571 - val_auc: 0.9446 - val_loss: 0.3205\n",
            "Epoch 12/50\n",
            "\u001b[1m19/19\u001b[0m \u001b[32m━━━━━━━━━━━━━━━━━━━━\u001b[0m\u001b[37m\u001b[0m \u001b[1m0s\u001b[0m 4ms/step - accuracy: 0.8774 - auc: 0.9406 - loss: 0.3072 - val_accuracy: 0.8503 - val_auc: 0.9427 - val_loss: 0.3319\n",
            "Epoch 13/50\n",
            "\u001b[1m19/19\u001b[0m \u001b[32m━━━━━━━━━━━━━━━━━━━━\u001b[0m\u001b[37m\u001b[0m \u001b[1m0s\u001b[0m 4ms/step - accuracy: 0.8721 - auc: 0.9462 - loss: 0.2960 - val_accuracy: 0.8503 - val_auc: 0.9419 - val_loss: 0.3242\n",
            "Epoch 14/50\n",
            "\u001b[1m19/19\u001b[0m \u001b[32m━━━━━━━━━━━━━━━━━━━━\u001b[0m\u001b[37m\u001b[0m \u001b[1m0s\u001b[0m 4ms/step - accuracy: 0.8924 - auc: 0.9379 - loss: 0.3121 - val_accuracy: 0.8435 - val_auc: 0.9407 - val_loss: 0.3304\n",
            "Epoch 15/50\n",
            "\u001b[1m19/19\u001b[0m \u001b[32m━━━━━━━━━━━━━━━━━━━━\u001b[0m\u001b[37m\u001b[0m \u001b[1m0s\u001b[0m 4ms/step - accuracy: 0.8941 - auc: 0.9482 - loss: 0.2827 - val_accuracy: 0.8503 - val_auc: 0.9390 - val_loss: 0.3256\n",
            "Epoch 16/50\n",
            "\u001b[1m19/19\u001b[0m \u001b[32m━━━━━━━━━━━━━━━━━━━━\u001b[0m\u001b[37m\u001b[0m \u001b[1m0s\u001b[0m 5ms/step - accuracy: 0.8687 - auc: 0.9418 - loss: 0.3135 - val_accuracy: 0.8367 - val_auc: 0.9383 - val_loss: 0.3360\n",
            "Epoch 17/50\n",
            "\u001b[1m19/19\u001b[0m \u001b[32m━━━━━━━━━━━━━━━━━━━━\u001b[0m\u001b[37m\u001b[0m \u001b[1m0s\u001b[0m 4ms/step - accuracy: 0.8835 - auc: 0.9469 - loss: 0.2942 - val_accuracy: 0.8503 - val_auc: 0.9387 - val_loss: 0.3291\n",
            "Epoch 18/50\n",
            "\u001b[1m19/19\u001b[0m \u001b[32m━━━━━━━━━━━━━━━━━━━━\u001b[0m\u001b[37m\u001b[0m \u001b[1m0s\u001b[0m 5ms/step - accuracy: 0.9104 - auc: 0.9575 - loss: 0.2643 - val_accuracy: 0.8435 - val_auc: 0.9363 - val_loss: 0.3295\n",
            "Epoch 19/50\n",
            "\u001b[1m19/19\u001b[0m \u001b[32m━━━━━━━━━━━━━━━━━━━━\u001b[0m\u001b[37m\u001b[0m \u001b[1m0s\u001b[0m 5ms/step - accuracy: 0.8909 - auc: 0.9579 - loss: 0.2640 - val_accuracy: 0.8367 - val_auc: 0.9345 - val_loss: 0.3360\n",
            "Epoch 20/50\n",
            "\u001b[1m19/19\u001b[0m \u001b[32m━━━━━━━━━━━━━━━━━━━━\u001b[0m\u001b[37m\u001b[0m \u001b[1m0s\u001b[0m 4ms/step - accuracy: 0.8850 - auc: 0.9549 - loss: 0.2742 - val_accuracy: 0.8367 - val_auc: 0.9349 - val_loss: 0.3372\n",
            "Epoch 21/50\n",
            "\u001b[1m19/19\u001b[0m \u001b[32m━━━━━━━━━━━━━━━━━━━━\u001b[0m\u001b[37m\u001b[0m \u001b[1m0s\u001b[0m 4ms/step - accuracy: 0.8927 - auc: 0.9534 - loss: 0.2709 - val_accuracy: 0.8367 - val_auc: 0.9336 - val_loss: 0.3404\n",
            "Epoch 22/50\n",
            "\u001b[1m19/19\u001b[0m \u001b[32m━━━━━━━━━━━━━━━━━━━━\u001b[0m\u001b[37m\u001b[0m \u001b[1m0s\u001b[0m 5ms/step - accuracy: 0.8900 - auc: 0.9582 - loss: 0.2558 - val_accuracy: 0.8367 - val_auc: 0.9330 - val_loss: 0.3371\n",
            "Epoch 23/50\n",
            "\u001b[1m19/19\u001b[0m \u001b[32m━━━━━━━━━━━━━━━━━━━━\u001b[0m\u001b[37m\u001b[0m \u001b[1m0s\u001b[0m 5ms/step - accuracy: 0.8945 - auc: 0.9609 - loss: 0.2535 - val_accuracy: 0.8299 - val_auc: 0.9331 - val_loss: 0.3442\n",
            "Epoch 24/50\n",
            "\u001b[1m19/19\u001b[0m \u001b[32m━━━━━━━━━━━━━━━━━━━━\u001b[0m\u001b[37m\u001b[0m \u001b[1m0s\u001b[0m 5ms/step - accuracy: 0.9062 - auc: 0.9684 - loss: 0.2332 - val_accuracy: 0.8367 - val_auc: 0.9331 - val_loss: 0.3398\n",
            "Epoch 25/50\n",
            "\u001b[1m19/19\u001b[0m \u001b[32m━━━━━━━━━━━━━━━━━━━━\u001b[0m\u001b[37m\u001b[0m \u001b[1m0s\u001b[0m 5ms/step - accuracy: 0.9178 - auc: 0.9645 - loss: 0.2348 - val_accuracy: 0.8367 - val_auc: 0.9324 - val_loss: 0.3395\n",
            "Epoch 26/50\n",
            "\u001b[1m19/19\u001b[0m \u001b[32m━━━━━━━━━━━━━━━━━━━━\u001b[0m\u001b[37m\u001b[0m \u001b[1m0s\u001b[0m 5ms/step - accuracy: 0.8850 - auc: 0.9624 - loss: 0.2472 - val_accuracy: 0.8299 - val_auc: 0.9331 - val_loss: 0.3383\n",
            "Epoch 27/50\n",
            "\u001b[1m19/19\u001b[0m \u001b[32m━━━━━━━━━━━━━━━━━━━━\u001b[0m\u001b[37m\u001b[0m \u001b[1m0s\u001b[0m 4ms/step - accuracy: 0.9177 - auc: 0.9705 - loss: 0.2368 - val_accuracy: 0.8299 - val_auc: 0.9313 - val_loss: 0.3485\n",
            "Epoch 28/50\n",
            "\u001b[1m19/19\u001b[0m \u001b[32m━━━━━━━━━━━━━━━━━━━━\u001b[0m\u001b[37m\u001b[0m \u001b[1m0s\u001b[0m 4ms/step - accuracy: 0.9051 - auc: 0.9674 - loss: 0.2324 - val_accuracy: 0.8299 - val_auc: 0.9306 - val_loss: 0.3565\n",
            "Epoch 29/50\n",
            "\u001b[1m19/19\u001b[0m \u001b[32m━━━━━━━━━━━━━━━━━━━━\u001b[0m\u001b[37m\u001b[0m \u001b[1m0s\u001b[0m 4ms/step - accuracy: 0.9139 - auc: 0.9676 - loss: 0.2268 - val_accuracy: 0.8299 - val_auc: 0.9320 - val_loss: 0.3558\n",
            "Epoch 30/50\n",
            "\u001b[1m19/19\u001b[0m \u001b[32m━━━━━━━━━━━━━━━━━━━━\u001b[0m\u001b[37m\u001b[0m \u001b[1m0s\u001b[0m 5ms/step - accuracy: 0.9296 - auc: 0.9766 - loss: 0.2077 - val_accuracy: 0.8299 - val_auc: 0.9303 - val_loss: 0.3475\n",
            "Epoch 31/50\n",
            "\u001b[1m19/19\u001b[0m \u001b[32m━━━━━━━━━━━━━━━━━━━━\u001b[0m\u001b[37m\u001b[0m \u001b[1m0s\u001b[0m 5ms/step - accuracy: 0.9150 - auc: 0.9746 - loss: 0.2090 - val_accuracy: 0.8299 - val_auc: 0.9295 - val_loss: 0.3598\n",
            "Epoch 32/50\n",
            "\u001b[1m19/19\u001b[0m \u001b[32m━━━━━━━━━━━━━━━━━━━━\u001b[0m\u001b[37m\u001b[0m \u001b[1m0s\u001b[0m 4ms/step - accuracy: 0.9240 - auc: 0.9757 - loss: 0.2081 - val_accuracy: 0.8299 - val_auc: 0.9305 - val_loss: 0.3629\n",
            "Epoch 33/50\n",
            "\u001b[1m19/19\u001b[0m \u001b[32m━━━━━━━━━━━━━━━━━━━━\u001b[0m\u001b[37m\u001b[0m \u001b[1m0s\u001b[0m 4ms/step - accuracy: 0.9233 - auc: 0.9708 - loss: 0.2144 - val_accuracy: 0.8299 - val_auc: 0.9285 - val_loss: 0.3566\n",
            "Epoch 34/50\n",
            "\u001b[1m19/19\u001b[0m \u001b[32m━━━━━━━━━━━━━━━━━━━━\u001b[0m\u001b[37m\u001b[0m \u001b[1m0s\u001b[0m 5ms/step - accuracy: 0.9102 - auc: 0.9716 - loss: 0.2215 - val_accuracy: 0.8367 - val_auc: 0.9291 - val_loss: 0.3666\n",
            "Epoch 35/50\n",
            "\u001b[1m19/19\u001b[0m \u001b[32m━━━━━━━━━━━━━━━━━━━━\u001b[0m\u001b[37m\u001b[0m \u001b[1m0s\u001b[0m 5ms/step - accuracy: 0.9450 - auc: 0.9821 - loss: 0.1836 - val_accuracy: 0.8435 - val_auc: 0.9287 - val_loss: 0.3628\n",
            "Epoch 36/50\n",
            "\u001b[1m19/19\u001b[0m \u001b[32m━━━━━━━━━━━━━━━━━━━━\u001b[0m\u001b[37m\u001b[0m \u001b[1m0s\u001b[0m 4ms/step - accuracy: 0.9320 - auc: 0.9828 - loss: 0.1789 - val_accuracy: 0.8503 - val_auc: 0.9301 - val_loss: 0.3638\n",
            "Epoch 37/50\n",
            "\u001b[1m19/19\u001b[0m \u001b[32m━━━━━━━━━━━━━━━━━━━━\u001b[0m\u001b[37m\u001b[0m \u001b[1m0s\u001b[0m 5ms/step - accuracy: 0.9261 - auc: 0.9817 - loss: 0.1838 - val_accuracy: 0.8435 - val_auc: 0.9265 - val_loss: 0.3639\n",
            "Epoch 38/50\n",
            "\u001b[1m19/19\u001b[0m \u001b[32m━━━━━━━━━━━━━━━━━━━━\u001b[0m\u001b[37m\u001b[0m \u001b[1m0s\u001b[0m 4ms/step - accuracy: 0.9213 - auc: 0.9748 - loss: 0.2084 - val_accuracy: 0.8639 - val_auc: 0.9255 - val_loss: 0.3750\n",
            "Epoch 39/50\n",
            "\u001b[1m19/19\u001b[0m \u001b[32m━━━━━━━━━━━━━━━━━━━━\u001b[0m\u001b[37m\u001b[0m \u001b[1m0s\u001b[0m 5ms/step - accuracy: 0.9357 - auc: 0.9829 - loss: 0.1920 - val_accuracy: 0.8503 - val_auc: 0.9271 - val_loss: 0.3721\n",
            "Epoch 40/50\n",
            "\u001b[1m19/19\u001b[0m \u001b[32m━━━━━━━━━━━━━━━━━━━━\u001b[0m\u001b[37m\u001b[0m \u001b[1m0s\u001b[0m 4ms/step - accuracy: 0.9307 - auc: 0.9709 - loss: 0.1981 - val_accuracy: 0.8571 - val_auc: 0.9231 - val_loss: 0.3881\n",
            "Epoch 41/50\n",
            "\u001b[1m19/19\u001b[0m \u001b[32m━━━━━━━━━━━━━━━━━━━━\u001b[0m\u001b[37m\u001b[0m \u001b[1m0s\u001b[0m 5ms/step - accuracy: 0.9416 - auc: 0.9840 - loss: 0.1673 - val_accuracy: 0.8503 - val_auc: 0.9283 - val_loss: 0.3778\n",
            "Epoch 42/50\n",
            "\u001b[1m19/19\u001b[0m \u001b[32m━━━━━━━━━━━━━━━━━━━━\u001b[0m\u001b[37m\u001b[0m \u001b[1m0s\u001b[0m 5ms/step - accuracy: 0.9474 - auc: 0.9894 - loss: 0.1519 - val_accuracy: 0.8503 - val_auc: 0.9238 - val_loss: 0.4010\n",
            "Epoch 43/50\n",
            "\u001b[1m19/19\u001b[0m \u001b[32m━━━━━━━━━━━━━━━━━━━━\u001b[0m\u001b[37m\u001b[0m \u001b[1m0s\u001b[0m 4ms/step - accuracy: 0.9427 - auc: 0.9808 - loss: 0.1793 - val_accuracy: 0.8503 - val_auc: 0.9221 - val_loss: 0.3782\n",
            "Epoch 44/50\n",
            "\u001b[1m19/19\u001b[0m \u001b[32m━━━━━━━━━━━━━━━━━━━━\u001b[0m\u001b[37m\u001b[0m \u001b[1m0s\u001b[0m 4ms/step - accuracy: 0.9264 - auc: 0.9789 - loss: 0.1872 - val_accuracy: 0.8435 - val_auc: 0.9197 - val_loss: 0.4031\n",
            "Epoch 45/50\n",
            "\u001b[1m19/19\u001b[0m \u001b[32m━━━━━━━━━━━━━━━━━━━━\u001b[0m\u001b[37m\u001b[0m \u001b[1m0s\u001b[0m 4ms/step - accuracy: 0.9366 - auc: 0.9841 - loss: 0.1668 - val_accuracy: 0.8435 - val_auc: 0.9271 - val_loss: 0.3732\n",
            "Epoch 46/50\n",
            "\u001b[1m 1/19\u001b[0m \u001b[32m━\u001b[0m\u001b[37m━━━━━━━━━━━━━━━━━━━\u001b[0m \u001b[1m0s\u001b[0m 31ms/step - accuracy: 0.8750 - auc: 0.9396 - loss: 0.3667\n",
            "Reached 95.00% accuracy. Stopping training!\n",
            "\u001b[1m19/19\u001b[0m \u001b[32m━━━━━━━━━━━━━━━━━━━━\u001b[0m\u001b[37m\u001b[0m \u001b[1m0s\u001b[0m 6ms/step - accuracy: 0.9403 - auc: 0.9798 - loss: 0.1924 - val_accuracy: 0.8503 - val_auc: 0.9212 - val_loss: 0.4083\n"
          ]
        }
      ]
    },
    {
      "cell_type": "code",
      "source": [
        "# Evaluate the model\n",
        "results = model.evaluate(X_test, y_test)\n",
        "print(f\"Test Accuracy: {results[1]:.2f}\")\n",
        "print(f\"Test AUC: {results[2]:.2f}\")\n"
      ],
      "metadata": {
        "colab": {
          "base_uri": "https://localhost:8080/"
        },
        "id": "zzrvtbR9_3UW",
        "outputId": "431b1f4e-17aa-4451-8e23-cab6587d96c7"
      },
      "execution_count": 8,
      "outputs": [
        {
          "output_type": "stream",
          "name": "stdout",
          "text": [
            "\u001b[1m6/6\u001b[0m \u001b[32m━━━━━━━━━━━━━━━━━━━━\u001b[0m\u001b[37m\u001b[0m \u001b[1m0s\u001b[0m 4ms/step - accuracy: 0.8193 - auc: 0.8806 - loss: 0.5269 \n",
            "Test Accuracy: 0.83\n",
            "Test AUC: 0.89\n"
          ]
        }
      ]
    }
  ]
}