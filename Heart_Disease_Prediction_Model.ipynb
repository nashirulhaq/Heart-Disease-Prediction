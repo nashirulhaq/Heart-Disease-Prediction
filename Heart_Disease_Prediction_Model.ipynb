{
 "cells": [
  {
   "cell_type": "markdown",
   "metadata": {
    "id": "dUAUha8VBj1Q"
   },
   "source": [
    "# Heart Disease Prediction"
   ]
  },
  {
   "cell_type": "code",
   "execution_count": null,
   "metadata": {
    "colab": {
     "base_uri": "https://localhost:8080/",
     "height": 1000
    },
    "id": "jHKGwnwrWecP",
    "outputId": "c3f20d44-41fe-4816-af2f-6cd11c251c18"
   },
   "outputs": [
    {
     "name": "stdout",
     "output_type": "stream",
     "text": [
      "Collecting tensorflow==2.13.0\n",
      "  Downloading tensorflow-2.13.0-cp310-cp310-manylinux_2_17_x86_64.manylinux2014_x86_64.whl.metadata (3.4 kB)\n",
      "Requirement already satisfied: absl-py>=1.0.0 in /usr/local/lib/python3.10/dist-packages (from tensorflow==2.13.0) (1.4.0)\n",
      "Requirement already satisfied: astunparse>=1.6.0 in /usr/local/lib/python3.10/dist-packages (from tensorflow==2.13.0) (1.6.3)\n",
      "Requirement already satisfied: flatbuffers>=23.1.21 in /usr/local/lib/python3.10/dist-packages (from tensorflow==2.13.0) (24.3.25)\n",
      "Collecting gast<=0.4.0,>=0.2.1 (from tensorflow==2.13.0)\n",
      "  Downloading gast-0.4.0-py3-none-any.whl.metadata (1.1 kB)\n",
      "Requirement already satisfied: google-pasta>=0.1.1 in /usr/local/lib/python3.10/dist-packages (from tensorflow==2.13.0) (0.2.0)\n",
      "Requirement already satisfied: grpcio<2.0,>=1.24.3 in /usr/local/lib/python3.10/dist-packages (from tensorflow==2.13.0) (1.68.0)\n",
      "Requirement already satisfied: h5py>=2.9.0 in /usr/local/lib/python3.10/dist-packages (from tensorflow==2.13.0) (3.12.1)\n",
      "Collecting keras<2.14,>=2.13.1 (from tensorflow==2.13.0)\n",
      "  Downloading keras-2.13.1-py3-none-any.whl.metadata (2.4 kB)\n",
      "Requirement already satisfied: libclang>=13.0.0 in /usr/local/lib/python3.10/dist-packages (from tensorflow==2.13.0) (18.1.1)\n",
      "Collecting numpy<=1.24.3,>=1.22 (from tensorflow==2.13.0)\n",
      "  Downloading numpy-1.24.3-cp310-cp310-manylinux_2_17_x86_64.manylinux2014_x86_64.whl.metadata (5.6 kB)\n",
      "Requirement already satisfied: opt-einsum>=2.3.2 in /usr/local/lib/python3.10/dist-packages (from tensorflow==2.13.0) (3.4.0)\n",
      "Requirement already satisfied: packaging in /usr/local/lib/python3.10/dist-packages (from tensorflow==2.13.0) (24.2)\n",
      "Requirement already satisfied: protobuf!=4.21.0,!=4.21.1,!=4.21.2,!=4.21.3,!=4.21.4,!=4.21.5,<5.0.0dev,>=3.20.3 in /usr/local/lib/python3.10/dist-packages (from tensorflow==2.13.0) (4.25.5)\n",
      "Requirement already satisfied: setuptools in /usr/local/lib/python3.10/dist-packages (from tensorflow==2.13.0) (75.1.0)\n",
      "Requirement already satisfied: six>=1.12.0 in /usr/local/lib/python3.10/dist-packages (from tensorflow==2.13.0) (1.16.0)\n",
      "Collecting tensorboard<2.14,>=2.13 (from tensorflow==2.13.0)\n",
      "  Downloading tensorboard-2.13.0-py3-none-any.whl.metadata (1.8 kB)\n",
      "Collecting tensorflow-estimator<2.14,>=2.13.0 (from tensorflow==2.13.0)\n",
      "  Downloading tensorflow_estimator-2.13.0-py2.py3-none-any.whl.metadata (1.3 kB)\n",
      "Requirement already satisfied: termcolor>=1.1.0 in /usr/local/lib/python3.10/dist-packages (from tensorflow==2.13.0) (2.5.0)\n",
      "Collecting typing-extensions<4.6.0,>=3.6.6 (from tensorflow==2.13.0)\n",
      "  Downloading typing_extensions-4.5.0-py3-none-any.whl.metadata (8.5 kB)\n",
      "Requirement already satisfied: wrapt>=1.11.0 in /usr/local/lib/python3.10/dist-packages (from tensorflow==2.13.0) (1.16.0)\n",
      "Requirement already satisfied: tensorflow-io-gcs-filesystem>=0.23.1 in /usr/local/lib/python3.10/dist-packages (from tensorflow==2.13.0) (0.37.1)\n",
      "Requirement already satisfied: wheel<1.0,>=0.23.0 in /usr/local/lib/python3.10/dist-packages (from astunparse>=1.6.0->tensorflow==2.13.0) (0.45.0)\n",
      "Requirement already satisfied: google-auth<3,>=1.6.3 in /usr/local/lib/python3.10/dist-packages (from tensorboard<2.14,>=2.13->tensorflow==2.13.0) (2.27.0)\n",
      "Collecting google-auth-oauthlib<1.1,>=0.5 (from tensorboard<2.14,>=2.13->tensorflow==2.13.0)\n",
      "  Downloading google_auth_oauthlib-1.0.0-py2.py3-none-any.whl.metadata (2.7 kB)\n",
      "Requirement already satisfied: markdown>=2.6.8 in /usr/local/lib/python3.10/dist-packages (from tensorboard<2.14,>=2.13->tensorflow==2.13.0) (3.7)\n",
      "Requirement already satisfied: requests<3,>=2.21.0 in /usr/local/lib/python3.10/dist-packages (from tensorboard<2.14,>=2.13->tensorflow==2.13.0) (2.32.3)\n",
      "Requirement already satisfied: tensorboard-data-server<0.8.0,>=0.7.0 in /usr/local/lib/python3.10/dist-packages (from tensorboard<2.14,>=2.13->tensorflow==2.13.0) (0.7.2)\n",
      "Requirement already satisfied: werkzeug>=1.0.1 in /usr/local/lib/python3.10/dist-packages (from tensorboard<2.14,>=2.13->tensorflow==2.13.0) (3.1.3)\n",
      "Requirement already satisfied: cachetools<6.0,>=2.0.0 in /usr/local/lib/python3.10/dist-packages (from google-auth<3,>=1.6.3->tensorboard<2.14,>=2.13->tensorflow==2.13.0) (5.5.0)\n",
      "Requirement already satisfied: pyasn1-modules>=0.2.1 in /usr/local/lib/python3.10/dist-packages (from google-auth<3,>=1.6.3->tensorboard<2.14,>=2.13->tensorflow==2.13.0) (0.4.1)\n",
      "Requirement already satisfied: rsa<5,>=3.1.4 in /usr/local/lib/python3.10/dist-packages (from google-auth<3,>=1.6.3->tensorboard<2.14,>=2.13->tensorflow==2.13.0) (4.9)\n",
      "Requirement already satisfied: requests-oauthlib>=0.7.0 in /usr/local/lib/python3.10/dist-packages (from google-auth-oauthlib<1.1,>=0.5->tensorboard<2.14,>=2.13->tensorflow==2.13.0) (1.3.1)\n",
      "Requirement already satisfied: charset-normalizer<4,>=2 in /usr/local/lib/python3.10/dist-packages (from requests<3,>=2.21.0->tensorboard<2.14,>=2.13->tensorflow==2.13.0) (3.4.0)\n",
      "Requirement already satisfied: idna<4,>=2.5 in /usr/local/lib/python3.10/dist-packages (from requests<3,>=2.21.0->tensorboard<2.14,>=2.13->tensorflow==2.13.0) (3.10)\n",
      "Requirement already satisfied: urllib3<3,>=1.21.1 in /usr/local/lib/python3.10/dist-packages (from requests<3,>=2.21.0->tensorboard<2.14,>=2.13->tensorflow==2.13.0) (2.2.3)\n",
      "Requirement already satisfied: certifi>=2017.4.17 in /usr/local/lib/python3.10/dist-packages (from requests<3,>=2.21.0->tensorboard<2.14,>=2.13->tensorflow==2.13.0) (2024.8.30)\n",
      "Requirement already satisfied: MarkupSafe>=2.1.1 in /usr/local/lib/python3.10/dist-packages (from werkzeug>=1.0.1->tensorboard<2.14,>=2.13->tensorflow==2.13.0) (3.0.2)\n",
      "Requirement already satisfied: pyasn1<0.7.0,>=0.4.6 in /usr/local/lib/python3.10/dist-packages (from pyasn1-modules>=0.2.1->google-auth<3,>=1.6.3->tensorboard<2.14,>=2.13->tensorflow==2.13.0) (0.6.1)\n",
      "Requirement already satisfied: oauthlib>=3.0.0 in /usr/local/lib/python3.10/dist-packages (from requests-oauthlib>=0.7.0->google-auth-oauthlib<1.1,>=0.5->tensorboard<2.14,>=2.13->tensorflow==2.13.0) (3.2.2)\n",
      "Downloading tensorflow-2.13.0-cp310-cp310-manylinux_2_17_x86_64.manylinux2014_x86_64.whl (524.1 MB)\n",
      "\u001b[2K   \u001b[90m━━━━━━━━━━━━━━━━━━━━━━━━━━━━━━━━━━━━━━━━\u001b[0m \u001b[32m524.1/524.1 MB\u001b[0m \u001b[31m3.3 MB/s\u001b[0m eta \u001b[36m0:00:00\u001b[0m\n",
      "\u001b[?25hDownloading gast-0.4.0-py3-none-any.whl (9.8 kB)\n",
      "Downloading keras-2.13.1-py3-none-any.whl (1.7 MB)\n",
      "\u001b[2K   \u001b[90m━━━━━━━━━━━━━━━━━━━━━━━━━━━━━━━━━━━━━━━━\u001b[0m \u001b[32m1.7/1.7 MB\u001b[0m \u001b[31m61.2 MB/s\u001b[0m eta \u001b[36m0:00:00\u001b[0m\n",
      "\u001b[?25hDownloading numpy-1.24.3-cp310-cp310-manylinux_2_17_x86_64.manylinux2014_x86_64.whl (17.3 MB)\n",
      "\u001b[2K   \u001b[90m━━━━━━━━━━━━━━━━━━━━━━━━━━━━━━━━━━━━━━━━\u001b[0m \u001b[32m17.3/17.3 MB\u001b[0m \u001b[31m81.2 MB/s\u001b[0m eta \u001b[36m0:00:00\u001b[0m\n",
      "\u001b[?25hDownloading tensorboard-2.13.0-py3-none-any.whl (5.6 MB)\n",
      "\u001b[2K   \u001b[90m━━━━━━━━━━━━━━━━━━━━━━━━━━━━━━━━━━━━━━━━\u001b[0m \u001b[32m5.6/5.6 MB\u001b[0m \u001b[31m91.3 MB/s\u001b[0m eta \u001b[36m0:00:00\u001b[0m\n",
      "\u001b[?25hDownloading tensorflow_estimator-2.13.0-py2.py3-none-any.whl (440 kB)\n",
      "\u001b[2K   \u001b[90m━━━━━━━━━━━━━━━━━━━━━━━━━━━━━━━━━━━━━━━━\u001b[0m \u001b[32m440.8/440.8 kB\u001b[0m \u001b[31m23.7 MB/s\u001b[0m eta \u001b[36m0:00:00\u001b[0m\n",
      "\u001b[?25hDownloading typing_extensions-4.5.0-py3-none-any.whl (27 kB)\n",
      "Downloading google_auth_oauthlib-1.0.0-py2.py3-none-any.whl (18 kB)\n",
      "Installing collected packages: typing-extensions, tensorflow-estimator, numpy, keras, gast, google-auth-oauthlib, tensorboard, tensorflow\n",
      "  Attempting uninstall: typing-extensions\n",
      "    Found existing installation: typing_extensions 4.12.2\n",
      "    Uninstalling typing_extensions-4.12.2:\n",
      "      Successfully uninstalled typing_extensions-4.12.2\n",
      "  Attempting uninstall: numpy\n",
      "    Found existing installation: numpy 1.26.4\n",
      "    Uninstalling numpy-1.26.4:\n",
      "      Successfully uninstalled numpy-1.26.4\n",
      "  Attempting uninstall: keras\n",
      "    Found existing installation: keras 3.5.0\n",
      "    Uninstalling keras-3.5.0:\n",
      "      Successfully uninstalled keras-3.5.0\n",
      "  Attempting uninstall: gast\n",
      "    Found existing installation: gast 0.6.0\n",
      "    Uninstalling gast-0.6.0:\n",
      "      Successfully uninstalled gast-0.6.0\n",
      "  Attempting uninstall: google-auth-oauthlib\n",
      "    Found existing installation: google-auth-oauthlib 1.2.1\n",
      "    Uninstalling google-auth-oauthlib-1.2.1:\n",
      "      Successfully uninstalled google-auth-oauthlib-1.2.1\n",
      "  Attempting uninstall: tensorboard\n",
      "    Found existing installation: tensorboard 2.17.1\n",
      "    Uninstalling tensorboard-2.17.1:\n",
      "      Successfully uninstalled tensorboard-2.17.1\n",
      "  Attempting uninstall: tensorflow\n",
      "    Found existing installation: tensorflow 2.17.1\n",
      "    Uninstalling tensorflow-2.17.1:\n",
      "      Successfully uninstalled tensorflow-2.17.1\n",
      "\u001b[31mERROR: pip's dependency resolver does not currently take into account all the packages that are installed. This behaviour is the source of the following dependency conflicts.\n",
      "sqlalchemy 2.0.36 requires typing-extensions>=4.6.0, but you have typing-extensions 4.5.0 which is incompatible.\n",
      "albucore 0.0.19 requires numpy>=1.24.4, but you have numpy 1.24.3 which is incompatible.\n",
      "albumentations 1.4.20 requires numpy>=1.24.4, but you have numpy 1.24.3 which is incompatible.\n",
      "langchain-core 0.3.19 requires typing-extensions>=4.7, but you have typing-extensions 4.5.0 which is incompatible.\n",
      "nibabel 5.3.2 requires typing-extensions>=4.6; python_version < \"3.13\", but you have typing-extensions 4.5.0 which is incompatible.\n",
      "openai 1.54.4 requires typing-extensions<5,>=4.11, but you have typing-extensions 4.5.0 which is incompatible.\n",
      "pydantic 2.9.2 requires typing-extensions>=4.6.1; python_version < \"3.13\", but you have typing-extensions 4.5.0 which is incompatible.\n",
      "pydantic-core 2.23.4 requires typing-extensions!=4.7.0,>=4.6.0, but you have typing-extensions 4.5.0 which is incompatible.\n",
      "tf-keras 2.17.0 requires tensorflow<2.18,>=2.17, but you have tensorflow 2.13.0 which is incompatible.\n",
      "torch 2.5.1+cu121 requires typing-extensions>=4.8.0, but you have typing-extensions 4.5.0 which is incompatible.\n",
      "typeguard 4.4.1 requires typing-extensions>=4.10.0, but you have typing-extensions 4.5.0 which is incompatible.\u001b[0m\u001b[31m\n",
      "\u001b[0mSuccessfully installed gast-0.4.0 google-auth-oauthlib-1.0.0 keras-2.13.1 numpy-1.24.3 tensorboard-2.13.0 tensorflow-2.13.0 tensorflow-estimator-2.13.0 typing-extensions-4.5.0\n"
     ]
    },
    {
     "data": {
      "application/vnd.colab-display-data+json": {
       "id": "24300e6ccd2344099b7d782b2bda8d7e",
       "pip_warning": {
        "packages": [
         "numpy"
        ]
       }
      }
     },
     "metadata": {},
     "output_type": "display_data"
    }
   ],
   "source": [
    "!pip install tensorflow==2.13.0"
   ]
  },
  {
   "cell_type": "code",
   "execution_count": null,
   "metadata": {
    "id": "iIPchCUIcTkP"
   },
   "outputs": [],
   "source": [
    "import pandas as pd\n",
    "import tensorflow as tf\n",
    "import numpy as np\n",
    "from sklearn.model_selection import train_test_split\n",
    "from sklearn.preprocessing import StandardScaler, OneHotEncoder\n",
    "from sklearn.compose import ColumnTransformer\n",
    "from tensorflow.keras.callbacks import EarlyStopping, ReduceLROnPlateau"
   ]
  },
  {
   "cell_type": "code",
   "execution_count": null,
   "metadata": {
    "colab": {
     "base_uri": "https://localhost:8080/"
    },
    "id": "fxYpj8RAGWiR",
    "outputId": "f8878214-7e7b-4fe5-9d6f-43459aa03a8c"
   },
   "outputs": [
    {
     "name": "stdout",
     "output_type": "stream",
     "text": [
      "2.13.0\n"
     ]
    }
   ],
   "source": [
    "print(tf.__version__)"
   ]
  },
  {
   "cell_type": "code",
   "execution_count": null,
   "metadata": {
    "id": "IPUZ-Qsz_PBb"
   },
   "outputs": [],
   "source": [
    "# Load the dataset\n",
    "data = pd.read_csv('/data/cleaned_dataset.csv')\n",
    "\n",
    "# Drop irrelevant columns\n",
    "X = data.drop(['num', 'id', 'dataset'], axis=1)\n",
    "y = (data['num'] > 0).astype(int)\n",
    "\n",
    "# Encode binary columns\n",
    "X['sex'] = X['sex'].map({'Male': 0, 'Female': 1})\n",
    "X['fbs'] = X['fbs'].map({False: 0, True: 1})\n",
    "X['exang'] = X['exang'].map({False: 0, True: 1})\n",
    "\n",
    "# One-hot encode categorical columns\n",
    "X = pd.get_dummies(X, columns=['cp', 'restecg', 'slope', 'thal'])\n",
    "\n",
    "# Scale numerical columns\n",
    "numerical_cols = ['age', 'trestbps', 'chol', 'thalch', 'oldpeak', 'ca']\n",
    "scaler = StandardScaler()\n",
    "X[numerical_cols] = scaler.fit_transform(X[numerical_cols])\n"
   ]
  },
  {
   "cell_type": "code",
   "execution_count": null,
   "metadata": {
    "id": "NRkIp3GJ_XBK"
   },
   "outputs": [],
   "source": [
    "# Split the dataset into training and testing sets\n",
    "X_train, X_test, y_train, y_test = train_test_split(X, y, test_size=0.2, random_state=42)\n"
   ]
  },
  {
   "cell_type": "code",
   "execution_count": null,
   "metadata": {
    "id": "KdNDkYgR_ygE"
   },
   "outputs": [],
   "source": [
    "# Define the model with more regularization and dropout\n",
    "model = tf.keras.Sequential([\n",
    "    tf.keras.layers.Dense(64, activation='relu', input_shape=(X_train.shape[1],),kernel_regularizer=tf.keras.regularizers.l2(0.2)),\n",
    "    tf.keras.layers.BatchNormalization(),\n",
    "    tf.keras.layers.Dropout(0.5),\n",
    "    tf.keras.layers.Dense(32, activation='relu'),\n",
    "    tf.keras.layers.Dropout(0.5),\n",
    "    tf.keras.layers.Dense(1, activation='sigmoid')\n",
    "])"
   ]
  },
  {
   "cell_type": "code",
   "execution_count": null,
   "metadata": {
    "id": "7Wz9XgN__zSP"
   },
   "outputs": [],
   "source": [
    "# Compile the model with a learning rate scheduler\n",
    "optimizer = tf.keras.optimizers.Adam(learning_rate=5e-4)  # Keep the learning rate as is\n",
    "model.compile(optimizer=optimizer,\n",
    "              loss='binary_crossentropy',\n",
    "              metrics=['accuracy', tf.keras.metrics.AUC()])"
   ]
  },
  {
   "cell_type": "code",
   "execution_count": null,
   "metadata": {
    "id": "OvGErcSB_01e"
   },
   "outputs": [],
   "source": [
    "# Add callbacks for early stopping and learning rate scheduling\n",
    "early_stopping = EarlyStopping(monitor='val_loss', patience=10, restore_best_weights=True)\n",
    "lr_scheduler = ReduceLROnPlateau(monitor='val_loss', factor=0.5, patience=5, min_lr=1e-6)"
   ]
  },
  {
   "cell_type": "code",
   "execution_count": null,
   "metadata": {
    "colab": {
     "base_uri": "https://localhost:8080/"
    },
    "id": "speEY1Zd_2CT",
    "outputId": "57c2f0f2-2c7e-4e47-f7eb-8d1f4131d8f1"
   },
   "outputs": [
    {
     "name": "stdout",
     "output_type": "stream",
     "text": [
      "Epoch 1/60\n",
      "10/10 [==============================] - 2s 44ms/step - loss: 7.5040 - accuracy: 0.5850 - auc: 0.5949 - val_loss: 7.0537 - val_accuracy: 0.5646 - val_auc: 0.6605 - lr: 5.0000e-04\n",
      "Epoch 2/60\n",
      "10/10 [==============================] - 0s 9ms/step - loss: 7.1396 - accuracy: 0.6156 - auc: 0.6482 - val_loss: 6.7326 - val_accuracy: 0.6395 - val_auc: 0.7209 - lr: 5.0000e-04\n",
      "Epoch 3/60\n",
      "10/10 [==============================] - 0s 8ms/step - loss: 6.8859 - accuracy: 0.5884 - auc: 0.6278 - val_loss: 6.4263 - val_accuracy: 0.6667 - val_auc: 0.7703 - lr: 5.0000e-04\n",
      "Epoch 4/60\n",
      "10/10 [==============================] - 0s 38ms/step - loss: 6.4825 - accuracy: 0.6259 - auc: 0.6745 - val_loss: 6.1326 - val_accuracy: 0.6939 - val_auc: 0.7998 - lr: 5.0000e-04\n",
      "Epoch 5/60\n",
      "10/10 [==============================] - 0s 8ms/step - loss: 6.1491 - accuracy: 0.6854 - auc: 0.7273 - val_loss: 5.8504 - val_accuracy: 0.6939 - val_auc: 0.8157 - lr: 5.0000e-04\n",
      "Epoch 6/60\n",
      "10/10 [==============================] - 0s 8ms/step - loss: 5.8475 - accuracy: 0.6956 - auc: 0.7514 - val_loss: 5.5810 - val_accuracy: 0.7347 - val_auc: 0.8305 - lr: 5.0000e-04\n",
      "Epoch 7/60\n",
      "10/10 [==============================] - 0s 8ms/step - loss: 5.6152 - accuracy: 0.6837 - auc: 0.7366 - val_loss: 5.3252 - val_accuracy: 0.7619 - val_auc: 0.8412 - lr: 5.0000e-04\n",
      "Epoch 8/60\n",
      "10/10 [==============================] - 0s 9ms/step - loss: 5.3708 - accuracy: 0.6854 - auc: 0.7382 - val_loss: 5.0820 - val_accuracy: 0.7551 - val_auc: 0.8528 - lr: 5.0000e-04\n",
      "Epoch 9/60\n",
      "10/10 [==============================] - 0s 9ms/step - loss: 5.0611 - accuracy: 0.7211 - auc: 0.7907 - val_loss: 4.8506 - val_accuracy: 0.7687 - val_auc: 0.8580 - lr: 5.0000e-04\n",
      "Epoch 10/60\n",
      "10/10 [==============================] - 0s 9ms/step - loss: 4.8222 - accuracy: 0.7177 - auc: 0.7990 - val_loss: 4.6289 - val_accuracy: 0.7687 - val_auc: 0.8635 - lr: 5.0000e-04\n",
      "Epoch 11/60\n",
      "10/10 [==============================] - 0s 8ms/step - loss: 4.6721 - accuracy: 0.7279 - auc: 0.7827 - val_loss: 4.4168 - val_accuracy: 0.7823 - val_auc: 0.8665 - lr: 5.0000e-04\n",
      "Epoch 12/60\n",
      "10/10 [==============================] - 0s 9ms/step - loss: 4.4172 - accuracy: 0.7296 - auc: 0.8031 - val_loss: 4.2148 - val_accuracy: 0.7891 - val_auc: 0.8689 - lr: 5.0000e-04\n",
      "Epoch 13/60\n",
      "10/10 [==============================] - 0s 11ms/step - loss: 4.2172 - accuracy: 0.7330 - auc: 0.8068 - val_loss: 4.0219 - val_accuracy: 0.8027 - val_auc: 0.8723 - lr: 5.0000e-04\n",
      "Epoch 14/60\n",
      "10/10 [==============================] - 0s 8ms/step - loss: 4.0647 - accuracy: 0.7483 - auc: 0.8016 - val_loss: 3.8383 - val_accuracy: 0.8027 - val_auc: 0.8750 - lr: 5.0000e-04\n",
      "Epoch 15/60\n",
      "10/10 [==============================] - 0s 9ms/step - loss: 3.8431 - accuracy: 0.7517 - auc: 0.8189 - val_loss: 3.6638 - val_accuracy: 0.8027 - val_auc: 0.8764 - lr: 5.0000e-04\n",
      "Epoch 16/60\n",
      "10/10 [==============================] - 0s 9ms/step - loss: 3.6780 - accuracy: 0.7500 - auc: 0.8156 - val_loss: 3.4963 - val_accuracy: 0.7891 - val_auc: 0.8787 - lr: 5.0000e-04\n",
      "Epoch 17/60\n",
      "10/10 [==============================] - 0s 9ms/step - loss: 3.4642 - accuracy: 0.7534 - auc: 0.8387 - val_loss: 3.3370 - val_accuracy: 0.7959 - val_auc: 0.8832 - lr: 5.0000e-04\n",
      "Epoch 18/60\n",
      "10/10 [==============================] - 0s 9ms/step - loss: 3.3274 - accuracy: 0.7619 - auc: 0.8394 - val_loss: 3.1854 - val_accuracy: 0.7959 - val_auc: 0.8856 - lr: 5.0000e-04\n",
      "Epoch 19/60\n",
      "10/10 [==============================] - 0s 9ms/step - loss: 3.2229 - accuracy: 0.7466 - auc: 0.8257 - val_loss: 3.0406 - val_accuracy: 0.8027 - val_auc: 0.8871 - lr: 5.0000e-04\n",
      "Epoch 20/60\n",
      "10/10 [==============================] - 0s 9ms/step - loss: 3.0446 - accuracy: 0.7806 - auc: 0.8455 - val_loss: 2.9030 - val_accuracy: 0.8095 - val_auc: 0.8895 - lr: 5.0000e-04\n",
      "Epoch 21/60\n",
      "10/10 [==============================] - 0s 11ms/step - loss: 2.9657 - accuracy: 0.7398 - auc: 0.8126 - val_loss: 2.7715 - val_accuracy: 0.8163 - val_auc: 0.8910 - lr: 5.0000e-04\n",
      "Epoch 22/60\n",
      "10/10 [==============================] - 0s 8ms/step - loss: 2.8028 - accuracy: 0.7619 - auc: 0.8360 - val_loss: 2.6457 - val_accuracy: 0.8231 - val_auc: 0.8931 - lr: 5.0000e-04\n",
      "Epoch 23/60\n",
      "10/10 [==============================] - 0s 12ms/step - loss: 2.6731 - accuracy: 0.7721 - auc: 0.8490 - val_loss: 2.5257 - val_accuracy: 0.8367 - val_auc: 0.8958 - lr: 5.0000e-04\n",
      "Epoch 24/60\n",
      "10/10 [==============================] - 0s 11ms/step - loss: 2.5707 - accuracy: 0.7721 - auc: 0.8375 - val_loss: 2.4121 - val_accuracy: 0.8367 - val_auc: 0.8982 - lr: 5.0000e-04\n",
      "Epoch 25/60\n",
      "10/10 [==============================] - 0s 10ms/step - loss: 2.4661 - accuracy: 0.7891 - auc: 0.8442 - val_loss: 2.3045 - val_accuracy: 0.8367 - val_auc: 0.9006 - lr: 5.0000e-04\n",
      "Epoch 26/60\n",
      "10/10 [==============================] - 0s 8ms/step - loss: 2.3376 - accuracy: 0.7823 - auc: 0.8486 - val_loss: 2.2012 - val_accuracy: 0.8367 - val_auc: 0.9022 - lr: 5.0000e-04\n",
      "Epoch 27/60\n",
      "10/10 [==============================] - 0s 9ms/step - loss: 2.2346 - accuracy: 0.7806 - auc: 0.8524 - val_loss: 2.1026 - val_accuracy: 0.8435 - val_auc: 0.9044 - lr: 5.0000e-04\n",
      "Epoch 28/60\n",
      "10/10 [==============================] - 0s 9ms/step - loss: 2.1670 - accuracy: 0.7806 - auc: 0.8482 - val_loss: 2.0094 - val_accuracy: 0.8435 - val_auc: 0.9069 - lr: 5.0000e-04\n",
      "Epoch 29/60\n",
      "10/10 [==============================] - 0s 8ms/step - loss: 2.0880 - accuracy: 0.7908 - auc: 0.8455 - val_loss: 1.9213 - val_accuracy: 0.8435 - val_auc: 0.9084 - lr: 5.0000e-04\n",
      "Epoch 30/60\n",
      "10/10 [==============================] - 0s 8ms/step - loss: 1.9859 - accuracy: 0.7891 - auc: 0.8504 - val_loss: 1.8368 - val_accuracy: 0.8435 - val_auc: 0.9095 - lr: 5.0000e-04\n",
      "Epoch 31/60\n",
      "10/10 [==============================] - 0s 9ms/step - loss: 1.8580 - accuracy: 0.8129 - auc: 0.8702 - val_loss: 1.7570 - val_accuracy: 0.8435 - val_auc: 0.9106 - lr: 5.0000e-04\n",
      "Epoch 32/60\n",
      "10/10 [==============================] - 0s 11ms/step - loss: 1.8178 - accuracy: 0.7959 - auc: 0.8615 - val_loss: 1.6818 - val_accuracy: 0.8435 - val_auc: 0.9113 - lr: 5.0000e-04\n",
      "Epoch 33/60\n",
      "10/10 [==============================] - 0s 11ms/step - loss: 1.7244 - accuracy: 0.7908 - auc: 0.8645 - val_loss: 1.6116 - val_accuracy: 0.8435 - val_auc: 0.9129 - lr: 5.0000e-04\n",
      "Epoch 34/60\n",
      "10/10 [==============================] - 0s 9ms/step - loss: 1.6304 - accuracy: 0.8078 - auc: 0.8794 - val_loss: 1.5454 - val_accuracy: 0.8367 - val_auc: 0.9131 - lr: 5.0000e-04\n",
      "Epoch 35/60\n",
      "10/10 [==============================] - 0s 8ms/step - loss: 1.5613 - accuracy: 0.8027 - auc: 0.8823 - val_loss: 1.4814 - val_accuracy: 0.8435 - val_auc: 0.9126 - lr: 5.0000e-04\n",
      "Epoch 36/60\n",
      "10/10 [==============================] - 0s 9ms/step - loss: 1.4996 - accuracy: 0.8061 - auc: 0.8809 - val_loss: 1.4199 - val_accuracy: 0.8367 - val_auc: 0.9136 - lr: 5.0000e-04\n",
      "Epoch 37/60\n",
      "10/10 [==============================] - 0s 9ms/step - loss: 1.4596 - accuracy: 0.8129 - auc: 0.8727 - val_loss: 1.3622 - val_accuracy: 0.8367 - val_auc: 0.9124 - lr: 5.0000e-04\n",
      "Epoch 38/60\n",
      "10/10 [==============================] - 0s 9ms/step - loss: 1.4221 - accuracy: 0.7959 - auc: 0.8699 - val_loss: 1.3052 - val_accuracy: 0.8367 - val_auc: 0.9149 - lr: 5.0000e-04\n",
      "Epoch 39/60\n",
      "10/10 [==============================] - 0s 8ms/step - loss: 1.3680 - accuracy: 0.7942 - auc: 0.8663 - val_loss: 1.2526 - val_accuracy: 0.8367 - val_auc: 0.9157 - lr: 5.0000e-04\n",
      "Epoch 40/60\n",
      "10/10 [==============================] - 0s 9ms/step - loss: 1.2865 - accuracy: 0.8112 - auc: 0.8857 - val_loss: 1.2023 - val_accuracy: 0.8231 - val_auc: 0.9187 - lr: 5.0000e-04\n",
      "Epoch 41/60\n",
      "10/10 [==============================] - 0s 8ms/step - loss: 1.2573 - accuracy: 0.8129 - auc: 0.8782 - val_loss: 1.1547 - val_accuracy: 0.8367 - val_auc: 0.9223 - lr: 5.0000e-04\n",
      "Epoch 42/60\n",
      "10/10 [==============================] - 0s 9ms/step - loss: 1.1916 - accuracy: 0.8197 - auc: 0.8877 - val_loss: 1.1093 - val_accuracy: 0.8367 - val_auc: 0.9250 - lr: 5.0000e-04\n",
      "Epoch 43/60\n",
      "10/10 [==============================] - 0s 10ms/step - loss: 1.1489 - accuracy: 0.8146 - auc: 0.8860 - val_loss: 1.0687 - val_accuracy: 0.8367 - val_auc: 0.9254 - lr: 5.0000e-04\n",
      "Epoch 44/60\n",
      "10/10 [==============================] - 0s 11ms/step - loss: 1.1072 - accuracy: 0.7857 - auc: 0.8827 - val_loss: 1.0302 - val_accuracy: 0.8367 - val_auc: 0.9258 - lr: 5.0000e-04\n",
      "Epoch 45/60\n",
      "10/10 [==============================] - 0s 8ms/step - loss: 1.0719 - accuracy: 0.8027 - auc: 0.8834 - val_loss: 0.9924 - val_accuracy: 0.8367 - val_auc: 0.9271 - lr: 5.0000e-04\n",
      "Epoch 46/60\n",
      "10/10 [==============================] - 0s 9ms/step - loss: 1.0213 - accuracy: 0.8401 - auc: 0.8962 - val_loss: 0.9566 - val_accuracy: 0.8367 - val_auc: 0.9285 - lr: 5.0000e-04\n",
      "Epoch 47/60\n",
      "10/10 [==============================] - 0s 8ms/step - loss: 0.9830 - accuracy: 0.8214 - auc: 0.8944 - val_loss: 0.9231 - val_accuracy: 0.8367 - val_auc: 0.9294 - lr: 5.0000e-04\n",
      "Epoch 48/60\n",
      "10/10 [==============================] - 0s 7ms/step - loss: 0.9395 - accuracy: 0.8384 - auc: 0.9028 - val_loss: 0.8908 - val_accuracy: 0.8367 - val_auc: 0.9295 - lr: 5.0000e-04\n",
      "Epoch 49/60\n",
      "10/10 [==============================] - 0s 9ms/step - loss: 0.9186 - accuracy: 0.8248 - auc: 0.8981 - val_loss: 0.8600 - val_accuracy: 0.8367 - val_auc: 0.9295 - lr: 5.0000e-04\n",
      "Epoch 50/60\n",
      "10/10 [==============================] - 0s 9ms/step - loss: 0.8759 - accuracy: 0.8350 - auc: 0.9033 - val_loss: 0.8306 - val_accuracy: 0.8367 - val_auc: 0.9306 - lr: 5.0000e-04\n",
      "Epoch 51/60\n",
      "10/10 [==============================] - 0s 8ms/step - loss: 0.8559 - accuracy: 0.8384 - auc: 0.9012 - val_loss: 0.8048 - val_accuracy: 0.8299 - val_auc: 0.9302 - lr: 5.0000e-04\n",
      "Epoch 52/60\n",
      "10/10 [==============================] - 0s 10ms/step - loss: 0.8262 - accuracy: 0.8248 - auc: 0.9040 - val_loss: 0.7791 - val_accuracy: 0.8299 - val_auc: 0.9303 - lr: 5.0000e-04\n",
      "Epoch 53/60\n",
      "10/10 [==============================] - 0s 10ms/step - loss: 0.8205 - accuracy: 0.8061 - auc: 0.8943 - val_loss: 0.7531 - val_accuracy: 0.8299 - val_auc: 0.9306 - lr: 5.0000e-04\n",
      "Epoch 54/60\n",
      "10/10 [==============================] - 0s 10ms/step - loss: 0.7743 - accuracy: 0.8163 - auc: 0.9108 - val_loss: 0.7297 - val_accuracy: 0.8231 - val_auc: 0.9319 - lr: 5.0000e-04\n",
      "Epoch 55/60\n",
      "10/10 [==============================] - 0s 10ms/step - loss: 0.7643 - accuracy: 0.8282 - auc: 0.9008 - val_loss: 0.7088 - val_accuracy: 0.8503 - val_auc: 0.9322 - lr: 5.0000e-04\n",
      "Epoch 56/60\n",
      "10/10 [==============================] - 0s 10ms/step - loss: 0.7168 - accuracy: 0.8435 - auc: 0.9164 - val_loss: 0.6865 - val_accuracy: 0.8503 - val_auc: 0.9333 - lr: 5.0000e-04\n",
      "Epoch 57/60\n",
      "10/10 [==============================] - 0s 8ms/step - loss: 0.7039 - accuracy: 0.8418 - auc: 0.9127 - val_loss: 0.6661 - val_accuracy: 0.8503 - val_auc: 0.9336 - lr: 5.0000e-04\n",
      "Epoch 58/60\n",
      "10/10 [==============================] - 0s 9ms/step - loss: 0.6867 - accuracy: 0.8520 - auc: 0.9165 - val_loss: 0.6513 - val_accuracy: 0.8367 - val_auc: 0.9322 - lr: 5.0000e-04\n",
      "Epoch 59/60\n",
      "10/10 [==============================] - 0s 9ms/step - loss: 0.6981 - accuracy: 0.8350 - auc: 0.9044 - val_loss: 0.6337 - val_accuracy: 0.8503 - val_auc: 0.9330 - lr: 5.0000e-04\n",
      "Epoch 60/60\n",
      "10/10 [==============================] - 0s 9ms/step - loss: 0.6787 - accuracy: 0.8401 - auc: 0.9013 - val_loss: 0.6171 - val_accuracy: 0.8503 - val_auc: 0.9335 - lr: 5.0000e-04\n"
     ]
    }
   ],
   "source": [
    "# Ensure proper types and dimensions\n",
    "X_train = np.array(X_train, dtype=np.float32)\n",
    "y_train = np.array(y_train, dtype=np.float32)\n",
    "\n",
    "# Check for and handle NaN or infinite values\n",
    "X_train = np.nan_to_num(X_train)\n",
    "y_train = np.nan_to_num(y_train)\n",
    "\n",
    "# Train the model\n",
    "history = model.fit(\n",
    "    X_train,\n",
    "    y_train,\n",
    "    epochs=60,\n",
    "    batch_size=64,\n",
    "    validation_split=0.2,\n",
    "    callbacks=[early_stopping, lr_scheduler]\n",
    ")\n"
   ]
  },
  {
   "cell_type": "code",
   "execution_count": null,
   "metadata": {
    "colab": {
     "base_uri": "https://localhost:8080/"
    },
    "id": "zzrvtbR9_3UW",
    "outputId": "8b40778f-435d-4445-b9f6-4b5b3af9714f"
   },
   "outputs": [
    {
     "name": "stdout",
     "output_type": "stream",
     "text": [
      "6/6 [==============================] - 0s 4ms/step - loss: 0.6880 - accuracy: 0.8261 - auc: 0.8969\n",
      "Test Accuracy: 0.83\n",
      "Test AUC: 0.90\n"
     ]
    }
   ],
   "source": [
    "# Evaluate the model\n",
    "X_test = np.array(X_test, dtype=np.float32)\n",
    "y_test = np.array(y_test, dtype=np.float32)\n",
    "results = model.evaluate(X_test, y_test)\n",
    "print(f\"Test Accuracy: {results[1]:.2f}\")\n",
    "print(f\"Test AUC: {results[2]:.2f}\")\n"
   ]
  },
  {
   "cell_type": "code",
   "execution_count": null,
   "metadata": {
    "colab": {
     "base_uri": "https://localhost:8080/"
    },
    "id": "PAdPchRRIHO4",
    "outputId": "3cc2794d-3d01-4a34-d184-a283ac471b4b"
   },
   "outputs": [
    {
     "name": "stdout",
     "output_type": "stream",
     "text": [
      "Model architecture saved as JSON.\n",
      "Model weights saved separately.\n"
     ]
    }
   ],
   "source": [
    "# Save the model architecture to a JSON file\n",
    "model_json = model.to_json()\n",
    "with open(\"/content/model_architecture.json\", \"w\") as json_file:\n",
    "    json_file.write(model_json)\n",
    "print(\"Model architecture saved as JSON.\")\n",
    "\n",
    "# Save the model weights to an HDF5 file\n",
    "model.save_weights(\"/content/model.weights.h5\")\n",
    "print(\"Model weights saved separately.\")\n",
    "\n"
   ]
  },
  {
   "cell_type": "code",
   "execution_count": null,
   "metadata": {
    "id": "D1GjouVMnQmM"
   },
   "outputs": [],
   "source": [
    "# Save the model as a Keras file\n",
    "model.save(\"/content/heart_disease_model.keras\")"
   ]
  }
 ],
 "metadata": {
  "colab": {
   "provenance": []
  },
  "kernelspec": {
   "display_name": "Python 3",
   "name": "python3"
  },
  "language_info": {
   "name": "python"
  }
 },
 "nbformat": 4,
 "nbformat_minor": 0
}
